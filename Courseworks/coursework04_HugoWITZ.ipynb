{
  "cells": [
    {
      "cell_type": "markdown",
      "metadata": {
        "id": "view-in-github",
        "colab_type": "text"
      },
      "source": [
        "<a href=\"https://colab.research.google.com/github/Termote/Deep_learning_for_optical_imaging/blob/main/coursework04.ipynb\" target=\"_parent\"><img src=\"https://colab.research.google.com/assets/colab-badge.svg\" alt=\"Open In Colab\"/></a>"
      ]
    },
    {
      "cell_type": "markdown",
      "metadata": {
        "id": "p45UjNjFyoHc"
      },
      "source": [
        "# Fully connected two-layer classifier network"
      ]
    },
    {
      "cell_type": "markdown",
      "metadata": {
        "id": "xsMY2VZgywF8"
      },
      "source": [
        "## Notes\n",
        "\n",
        "* TensorFlow : *Machine learning framework* [[Link]](https://www.tensorflow.org/)\n",
        "* Keras : *High level neural networks application programming interface (API) which has been integrated into TensorFlow* [[Link]](https://keras.io/)\n",
        "\n",
        "\n",
        "* **Keras** is written in Python and uses TensorFlow as a back-end on CPUs and GPUs. It was developed with a focus on enabling fast experimentation and prototyping through user friendliness, modularity, and extensibility.\n"
      ]
    },
    {
      "cell_type": "markdown",
      "metadata": {
        "id": "HF4Lk4ZVe0Nj"
      },
      "source": [
        "## Create a fully connected two-layer classifier network in Keras"
      ]
    },
    {
      "cell_type": "markdown",
      "metadata": {
        "id": "0mIcpL6pLPvL"
      },
      "source": [
        "### Import required Python libraries\n",
        "\n"
      ]
    },
    {
      "cell_type": "code",
      "execution_count": null,
      "metadata": {
        "id": "jaV4mHBXVj2x"
      },
      "outputs": [],
      "source": [
        "import numpy as np\n",
        "import tensorflow as tf\n",
        "import matplotlib.pyplot as plt\n",
        "\n",
        "from tensorflow.keras.models import Model\n",
        "from tensorflow.keras.layers import Input, Activation\n",
        "from tensorflow.keras.layers import Dense, Dropout, Flatten\n",
        "from tensorflow.keras.optimizers import SGD\n",
        "\n"
      ]
    },
    {
      "cell_type": "markdown",
      "metadata": {
        "id": "BVMwTVUOV1KY"
      },
      "source": [
        "### Import and shape the dataset\n",
        "\n",
        "* typically the data should be pre-processed and shaped before being imported\n",
        "* typically the dataset, comprising a set of **input:ouput pairs**, is split in a **seen** dataset used for *training* and *validating* the neural network, and an **unseen** dataset used for *testing* the performance of the trained neural network with: <br>\n",
        "sklearn.model_selection.train_test_split\n",
        "* the output class of each sample needs to be **one-hot encoded** for classification applications"
      ]
    },
    {
      "cell_type": "code",
      "execution_count": null,
      "metadata": {
        "id": "lxMLelekV8xh",
        "outputId": "fdd23a0f-9bfc-44bc-dbe4-7a8df8d0348f",
        "colab": {
          "base_uri": "https://localhost:8080/",
          "height": 719
        }
      },
      "outputs": [
        {
          "output_type": "stream",
          "name": "stdout",
          "text": [
            "* Importing and shaping the data *\n",
            "\n",
            "Downloading data from https://storage.googleapis.com/tensorflow/tf-keras-datasets/train-labels-idx1-ubyte.gz\n",
            "29515/29515 [==============================] - 0s 0us/step\n",
            "Downloading data from https://storage.googleapis.com/tensorflow/tf-keras-datasets/train-images-idx3-ubyte.gz\n",
            "26421880/26421880 [==============================] - 0s 0us/step\n",
            "Downloading data from https://storage.googleapis.com/tensorflow/tf-keras-datasets/t10k-labels-idx1-ubyte.gz\n",
            "5148/5148 [==============================] - 0s 0us/step\n",
            "Downloading data from https://storage.googleapis.com/tensorflow/tf-keras-datasets/t10k-images-idx3-ubyte.gz\n",
            "4422102/4422102 [==============================] - 0s 0us/step\n",
            "input_train (original):  (60000, 28, 28)\n",
            "input_test (original):  (10000, 28, 28)\n",
            "\n",
            "input_train :  (60000, 28, 28, 1)\n",
            "output_train_class :  (60000,)\n",
            "output_train_class_onehot :  (60000, 10)\n",
            "\n",
            "input_test :  (10000, 28, 28, 1)\n",
            "output_test_class :  (10000,)\n",
            "output_test_class_onehot :  (10000, 10)\n",
            "\n",
            "output_class_names :  ['0', '1', '2', '3', '4', '5', '6', '7', '8', '9']\n",
            "\n",
            "item_id :  5\n",
            "output_train_class [item_id] :  2\n",
            "output_train_class_onehot [item_id] :  [0. 0. 1. 0. 0. 0. 0. 0. 0. 0.]\n"
          ]
        },
        {
          "output_type": "display_data",
          "data": {
            "text/plain": [
              "<Figure size 432x288 with 1 Axes>"
            ],
            "image/png": "[encoded data removed]"
          },
          "metadata": {}
        }
      ],
      "source": [
        "print('* Importing and shaping the data *')\n",
        "print()\n",
        "\n",
        "mnist = tf.keras.datasets.fashion_mnist  # load mnist dataset from tensorflow\n",
        "(input_train, output_train_class), (input_test, output_test_class) = mnist.load_data()\n",
        "\n",
        "print('input_train (original): ', input_train.shape)\n",
        "print('input_test (original): ', input_test.shape)\n",
        "print()\n",
        "\n",
        "input_train= input_train.reshape(input_train.shape[0], 28, 28, 1)  # add an extra dimension to array\n",
        "input_test= input_test.reshape(input_test.shape[0], 28, 28, 1)\n",
        "\n",
        "input_train = input_train / 255.0  # max normalise the image data[0:1]\n",
        "input_test = input_test / 255.0\n",
        "\n",
        "output_train_class_onehot = tf.keras.utils.to_categorical(output_train_class, 10)  # create one-hot encoded class\n",
        "output_test_class_onehot = tf.keras.utils.to_categorical(output_test_class, 10)\n",
        "\n",
        "output_class_names = ['0', '1', '2', '3', '4', '5', '6', '7', '8', '9']    # class names string\n",
        "\n",
        "print('input_train : ', input_train.shape)\n",
        "print('output_train_class : ', output_train_class.shape)\n",
        "print('output_train_class_onehot : ', output_train_class_onehot.shape)\n",
        "print()\n",
        "print('input_test : ', input_test.shape)\n",
        "print('output_test_class : ', output_test_class.shape)\n",
        "print('output_test_class_onehot : ', output_test_class_onehot.shape)\n",
        "print()\n",
        "print('output_class_names : ', output_class_names)\n",
        "print()\n",
        "\n",
        "item_id = 5\n",
        "\n",
        "print('item_id : ', item_id)\n",
        "print('output_train_class [item_id] : ', output_train_class[item_id])\n",
        "print('output_train_class_onehot [item_id] : ', output_train_class_onehot[item_id, :])\n",
        "\n",
        "plt.imshow(input_train[item_id, :, :, 0], cmap=plt.cm.binary)\n",
        "plt.title('input_train [' + str(item_id) + ']')\n",
        "plt.grid(None)\n",
        "plt.xticks([])\n",
        "plt.yticks([])\n",
        "plt.show()"
      ]
    },
    {
      "cell_type": "markdown",
      "metadata": {
        "id": "kgB--wW0dGPU"
      },
      "source": [
        "### Define the network hyperparameters\n",
        "\n",
        "* **hyperparameters** are the variables which determine the network structure and how the network is trained\n",
        "* structural hyperparameters: number of hidden layers, number of nodes in each layer...\n",
        "* training hyperparameters: learning rate, dropout ratio, number of epochs...\n",
        "* hyperparameters are set before training"
      ]
    },
    {
      "cell_type": "code",
      "execution_count": null,
      "metadata": {
        "id": "GdlhlPRPdZck"
      },
      "outputs": [],
      "source": [
        "loss = 'categorical_crossentropy'  # loss (cost) function to be minimised by the optimiser\n",
        "metrics = ['categorical_accuracy']  # network accuracy metric to be determined after each epoch\n",
        "dropout_ratio = 0.0  # % of nodes in the hidden layer to dropout during back-propagation update of the network weights\n",
        "validtrain_split_ratio = 0.2  # % of the seen dataset to be put aside for validation, rest is for training\n",
        "max_epochs = 40  # maxmimum number of epochs to be iterated\n",
        "batch_size = 500   # batch size for the training data set\n",
        "batch_shuffle = True   # shuffle the training data prior to batching before each epoch"
      ]
    },
    {
      "cell_type": "markdown",
      "metadata": {
        "id": "y6JHphuLcvb6"
      },
      "source": [
        "### Define the network architecture\n",
        "\n",
        "* using the Keras' *functional* model  [[Link]](https://keras.io/models/model/)\n",
        "* can also use Keras' *sequential* model but limited to simpler architectures  [[Link]](https://keras.io/models/sequential/)\n",
        "* can specify the type of each layer, for example dense (fully connected), convolutional, dropout etc. [[Link]](https://keras.io/layers/about-keras-layers/)\n",
        "* can specify the activation function to be used in each layer, for example sigmoid, relu etc. [[Link]](https://keras.io/activations/)\n",
        "* **softmax** activation, also known as *softargmax* or *normalized exponential function*, is typically used for the final layer of a classifier network to normalise its output into a probability distribution of the classes\n",
        "* network weights are typically initialised with random values\n"
      ]
    },
    {
      "cell_type": "code",
      "execution_count": null,
      "metadata": {
        "id": "TVOQwMTkdrdb"
      },
      "outputs": [],
      "source": [
        "from tensorflow.keras.utils import plot_model\n",
        "from IPython.display import Image\n",
        "\n",
        "def create_model(num_hidden_nodes, learning_rate, print_summary=False):\n",
        "\n",
        "    optimizer_type = SGD(learning_rate=learning_rate)  # optimisation algorithm: SGD stochastic gradient decent \n",
        "\n",
        "    input_shape = (28, 28, 1)\n",
        "    inputs = Input(shape=input_shape)\n",
        "\n",
        "    flatten = Flatten()(inputs)   # 784 nodes = 28x28\n",
        "\n",
        "    dense_01 = Dense(num_hidden_nodes)(flatten)\n",
        "    dense_01 = Activation('relu')(dense_01)\n",
        "    dense_01 = Dropout(dropout_ratio)(dense_01)\n",
        "\n",
        "    dense_02 = Dense(10)(dense_01)\n",
        "    outputs = Activation('softmax')(dense_02)\n",
        "\n",
        "    model = Model(inputs=inputs, outputs=outputs)\n",
        "    model.compile(optimizer=optimizer_type, loss=loss, metrics=metrics)\n",
        "\n",
        "    if print_summary:\n",
        "        print(model.summary())\n",
        "        plot_model(model, show_shapes=True, show_layer_names=True, to_file='model.png')\n",
        "\n",
        "    return model"
      ]
    },
    {
      "cell_type": "markdown",
      "metadata": {
        "id": "TvfyQk9LgaEz"
      },
      "source": [
        "### Train the neural network with 100 nodes and a learning rate of 0.01"
      ]
    },
    {
      "cell_type": "code",
      "execution_count": null,
      "metadata": {
        "id": "6OU0KVKG1Aj3",
        "outputId": "2f6518a3-091d-4246-9372-4cd1d9d89829",
        "colab": {
          "base_uri": "https://localhost:8080/"
        }
      },
      "outputs": [
        {
          "output_type": "stream",
          "name": "stdout",
          "text": [
            "Model: \"model\"\n",
            "_________________________________________________________________\n",
            " Layer (type)                Output Shape              Param #   \n",
            "=================================================================\n",
            " input_1 (InputLayer)        [(None, 28, 28, 1)]       0         \n",
            "                                                                 \n",
            " flatten (Flatten)           (None, 784)               0         \n",
            "                                                                 \n",
            " dense (Dense)               (None, 100)               78500     \n",
            "                                                                 \n",
            " activation (Activation)     (None, 100)               0         \n",
            "                                                                 \n",
            " dropout (Dropout)           (None, 100)               0         \n",
            "                                                                 \n",
            " dense_1 (Dense)             (None, 10)                1010      \n",
            "                                                                 \n",
            " activation_1 (Activation)   (None, 10)                0         \n",
            "                                                                 \n",
            "=================================================================\n",
            "Total params: 79,510\n",
            "Trainable params: 79,510\n",
            "Non-trainable params: 0\n",
            "_________________________________________________________________\n",
            "None\n"
          ]
        }
      ],
      "source": [
        "model = create_model(num_hidden_nodes=100, learning_rate=0.01, print_summary=True)"
      ]
    },
    {
      "cell_type": "code",
      "execution_count": null,
      "metadata": {
        "id": "qmXxAsVZggoD",
        "outputId": "026baba3-6d82-46f1-c288-0d4d0d051983",
        "colab": {
          "base_uri": "https://localhost:8080/"
        }
      },
      "outputs": [
        {
          "output_type": "stream",
          "name": "stdout",
          "text": [
            "* Training the compiled network *\n",
            "\n",
            "Epoch 1/40\n",
            "96/96 [==============================] - 7s 6ms/step - loss: 1.6911 - categorical_accuracy: 0.5060 - val_loss: 1.2770 - val_categorical_accuracy: 0.6518\n",
            "Epoch 2/40\n",
            "96/96 [==============================] - 0s 4ms/step - loss: 1.1202 - categorical_accuracy: 0.6739 - val_loss: 0.9910 - val_categorical_accuracy: 0.6956\n",
            "Epoch 3/40\n",
            "96/96 [==============================] - 0s 4ms/step - loss: 0.9325 - categorical_accuracy: 0.7085 - val_loss: 0.8684 - val_categorical_accuracy: 0.7232\n",
            "Epoch 4/40\n",
            "96/96 [==============================] - 0s 4ms/step - loss: 0.8380 - categorical_accuracy: 0.7332 - val_loss: 0.7970 - val_categorical_accuracy: 0.7426\n",
            "Epoch 5/40\n",
            "96/96 [==============================] - 0s 5ms/step - loss: 0.7783 - categorical_accuracy: 0.7513 - val_loss: 0.7478 - val_categorical_accuracy: 0.7588\n",
            "Epoch 6/40\n",
            "96/96 [==============================] - 0s 4ms/step - loss: 0.7356 - categorical_accuracy: 0.7659 - val_loss: 0.7126 - val_categorical_accuracy: 0.7722\n",
            "Epoch 7/40\n",
            "96/96 [==============================] - 0s 4ms/step - loss: 0.7031 - categorical_accuracy: 0.7764 - val_loss: 0.6842 - val_categorical_accuracy: 0.7800\n",
            "Epoch 8/40\n",
            "96/96 [==============================] - 0s 4ms/step - loss: 0.6772 - categorical_accuracy: 0.7840 - val_loss: 0.6619 - val_categorical_accuracy: 0.7861\n",
            "Epoch 9/40\n",
            "96/96 [==============================] - 0s 4ms/step - loss: 0.6558 - categorical_accuracy: 0.7901 - val_loss: 0.6433 - val_categorical_accuracy: 0.7916\n",
            "Epoch 10/40\n",
            "96/96 [==============================] - 0s 4ms/step - loss: 0.6377 - categorical_accuracy: 0.7961 - val_loss: 0.6289 - val_categorical_accuracy: 0.7934\n",
            "Epoch 11/40\n",
            "96/96 [==============================] - 1s 9ms/step - loss: 0.6223 - categorical_accuracy: 0.8003 - val_loss: 0.6139 - val_categorical_accuracy: 0.7989\n",
            "Epoch 12/40\n",
            "96/96 [==============================] - 1s 9ms/step - loss: 0.6090 - categorical_accuracy: 0.8041 - val_loss: 0.6022 - val_categorical_accuracy: 0.7995\n",
            "Epoch 13/40\n",
            "96/96 [==============================] - 1s 6ms/step - loss: 0.5969 - categorical_accuracy: 0.8079 - val_loss: 0.5914 - val_categorical_accuracy: 0.8033\n",
            "Epoch 14/40\n",
            "96/96 [==============================] - 0s 5ms/step - loss: 0.5865 - categorical_accuracy: 0.8100 - val_loss: 0.5819 - val_categorical_accuracy: 0.8049\n",
            "Epoch 15/40\n",
            "96/96 [==============================] - 0s 4ms/step - loss: 0.5772 - categorical_accuracy: 0.8124 - val_loss: 0.5744 - val_categorical_accuracy: 0.8070\n",
            "Epoch 16/40\n",
            "96/96 [==============================] - 0s 4ms/step - loss: 0.5684 - categorical_accuracy: 0.8150 - val_loss: 0.5662 - val_categorical_accuracy: 0.8078\n",
            "Epoch 17/40\n",
            "96/96 [==============================] - 0s 4ms/step - loss: 0.5606 - categorical_accuracy: 0.8175 - val_loss: 0.5593 - val_categorical_accuracy: 0.8102\n",
            "Epoch 18/40\n",
            "96/96 [==============================] - 0s 4ms/step - loss: 0.5535 - categorical_accuracy: 0.8192 - val_loss: 0.5535 - val_categorical_accuracy: 0.8128\n",
            "Epoch 19/40\n",
            "96/96 [==============================] - 0s 4ms/step - loss: 0.5472 - categorical_accuracy: 0.8205 - val_loss: 0.5472 - val_categorical_accuracy: 0.8145\n",
            "Epoch 20/40\n",
            "96/96 [==============================] - 0s 4ms/step - loss: 0.5410 - categorical_accuracy: 0.8221 - val_loss: 0.5422 - val_categorical_accuracy: 0.8181\n",
            "Epoch 21/40\n",
            "96/96 [==============================] - 0s 4ms/step - loss: 0.5355 - categorical_accuracy: 0.8236 - val_loss: 0.5375 - val_categorical_accuracy: 0.8185\n",
            "Epoch 22/40\n",
            "96/96 [==============================] - 0s 4ms/step - loss: 0.5303 - categorical_accuracy: 0.8253 - val_loss: 0.5322 - val_categorical_accuracy: 0.8193\n",
            "Epoch 23/40\n",
            "96/96 [==============================] - 0s 4ms/step - loss: 0.5254 - categorical_accuracy: 0.8263 - val_loss: 0.5280 - val_categorical_accuracy: 0.8215\n",
            "Epoch 24/40\n",
            "96/96 [==============================] - 0s 4ms/step - loss: 0.5208 - categorical_accuracy: 0.8269 - val_loss: 0.5249 - val_categorical_accuracy: 0.8211\n",
            "Epoch 25/40\n",
            "96/96 [==============================] - 0s 4ms/step - loss: 0.5168 - categorical_accuracy: 0.8275 - val_loss: 0.5209 - val_categorical_accuracy: 0.8204\n",
            "Epoch 26/40\n",
            "96/96 [==============================] - 0s 4ms/step - loss: 0.5126 - categorical_accuracy: 0.8293 - val_loss: 0.5168 - val_categorical_accuracy: 0.8221\n",
            "Epoch 27/40\n",
            "96/96 [==============================] - 0s 5ms/step - loss: 0.5088 - categorical_accuracy: 0.8303 - val_loss: 0.5140 - val_categorical_accuracy: 0.8224\n",
            "Epoch 28/40\n",
            "96/96 [==============================] - 0s 4ms/step - loss: 0.5052 - categorical_accuracy: 0.8309 - val_loss: 0.5107 - val_categorical_accuracy: 0.8238\n",
            "Epoch 29/40\n",
            "96/96 [==============================] - 0s 5ms/step - loss: 0.5018 - categorical_accuracy: 0.8311 - val_loss: 0.5073 - val_categorical_accuracy: 0.8253\n",
            "Epoch 30/40\n",
            "96/96 [==============================] - 0s 4ms/step - loss: 0.4986 - categorical_accuracy: 0.8330 - val_loss: 0.5048 - val_categorical_accuracy: 0.8244\n",
            "Epoch 31/40\n",
            "96/96 [==============================] - 0s 4ms/step - loss: 0.4956 - categorical_accuracy: 0.8343 - val_loss: 0.5032 - val_categorical_accuracy: 0.8250\n",
            "Epoch 32/40\n",
            "96/96 [==============================] - 0s 4ms/step - loss: 0.4929 - categorical_accuracy: 0.8341 - val_loss: 0.4987 - val_categorical_accuracy: 0.8256\n",
            "Epoch 33/40\n",
            "96/96 [==============================] - 0s 4ms/step - loss: 0.4896 - categorical_accuracy: 0.8349 - val_loss: 0.4978 - val_categorical_accuracy: 0.8267\n",
            "Epoch 34/40\n",
            "96/96 [==============================] - 0s 4ms/step - loss: 0.4873 - categorical_accuracy: 0.8357 - val_loss: 0.4942 - val_categorical_accuracy: 0.8269\n",
            "Epoch 35/40\n",
            "96/96 [==============================] - 0s 4ms/step - loss: 0.4848 - categorical_accuracy: 0.8364 - val_loss: 0.4920 - val_categorical_accuracy: 0.8295\n",
            "Epoch 36/40\n",
            "96/96 [==============================] - 0s 4ms/step - loss: 0.4821 - categorical_accuracy: 0.8369 - val_loss: 0.4898 - val_categorical_accuracy: 0.8292\n",
            "Epoch 37/40\n",
            "96/96 [==============================] - 0s 4ms/step - loss: 0.4798 - categorical_accuracy: 0.8382 - val_loss: 0.4881 - val_categorical_accuracy: 0.8306\n",
            "Epoch 38/40\n",
            "96/96 [==============================] - 0s 4ms/step - loss: 0.4776 - categorical_accuracy: 0.8383 - val_loss: 0.4859 - val_categorical_accuracy: 0.8296\n",
            "Epoch 39/40\n",
            "96/96 [==============================] - 0s 5ms/step - loss: 0.4753 - categorical_accuracy: 0.8392 - val_loss: 0.4840 - val_categorical_accuracy: 0.8302\n",
            "Epoch 40/40\n",
            "96/96 [==============================] - 1s 7ms/step - loss: 0.4734 - categorical_accuracy: 0.8398 - val_loss: 0.4818 - val_categorical_accuracy: 0.8307\n",
            "\n",
            "Training completed\n",
            "\n"
          ]
        }
      ],
      "source": [
        "print('* Training the compiled network *')\n",
        "print()\n",
        "\n",
        "history = model.fit(input_train, output_train_class_onehot, \\\n",
        "                    batch_size=batch_size, \\\n",
        "                    epochs=max_epochs, \\\n",
        "                    validation_split=validtrain_split_ratio, \\\n",
        "                    shuffle=batch_shuffle)\n",
        "\n",
        "print()\n",
        "print('Training completed')\n",
        "print()"
      ]
    },
    {
      "cell_type": "markdown",
      "metadata": {
        "id": "fT1FYewGwOo6"
      },
      "source": [
        "### Plot the training history of the network\n",
        "\n",
        "* usefull for seeing the convergence of the training, oscillations of the cost function between local minima, and the presence of over fitting"
      ]
    },
    {
      "cell_type": "code",
      "execution_count": null,
      "metadata": {
        "id": "_3NEJ2AywWZh",
        "outputId": "10ffb03d-c1e5-496a-9dd0-a887d01247f2",
        "colab": {
          "base_uri": "https://localhost:8080/",
          "height": 573
        }
      },
      "outputs": [
        {
          "output_type": "display_data",
          "data": {
            "text/plain": [
              "<Figure size 432x288 with 1 Axes>"
            ],
            "image/png": "[encoded data removed]"
          },
          "metadata": {
            "needs_background": "light"
          }
        },
        {
          "output_type": "display_data",
          "data": {
            "text/plain": [
              "<Figure size 432x288 with 1 Axes>"
            ],
            "image/png": "[encoded data removed]"
          },
          "metadata": {
            "needs_background": "light"
          }
        }
      ],
      "source": [
        "# model loss\n",
        "\n",
        "plt.plot(history.history['loss'])\n",
        "plt.plot(history.history['val_loss'])\n",
        "plt.title('Model loss : ' + loss)\n",
        "plt.ylabel('Loss')\n",
        "plt.xlabel('Epoch')\n",
        "plt.legend(['Training', 'Validation'], loc='best')\n",
        "plt.show()\n",
        "plt.close()\n",
        "\n",
        "# model accuracy metric\n",
        "\n",
        "plt.plot(np.array(history.history[metrics[0]]))\n",
        "plt.plot(np.array(history.history['val_' + metrics[0]]))\n",
        "plt.title('Model accuracy metric : ' + metrics[0])\n",
        "plt.ylabel('Accuracy metric')\n",
        "plt.xlabel('Epoch')\n",
        "plt.legend(['Training', 'Validation'], loc='best')\n",
        "plt.show()\n",
        "plt.close()"
      ]
    },
    {
      "cell_type": "markdown",
      "metadata": {
        "id": "FgUczSigiDFl"
      },
      "source": [
        "### Evaluate the trained network performance on the unseen test dataset\n",
        "\n",
        "* the performance of the trained network on unseen data can be assessed using: .evaluate()"
      ]
    },
    {
      "cell_type": "code",
      "execution_count": null,
      "metadata": {
        "id": "fKV_mSM76IK2",
        "outputId": "16a6c08f-e814-49f2-b4e5-f1eb45f2287c",
        "colab": {
          "base_uri": "https://localhost:8080/"
        }
      },
      "outputs": [
        {
          "output_type": "stream",
          "name": "stdout",
          "text": [
            "* Evaluating the performance of the trained network on the unseen test dataset *\n",
            "\n",
            "313/313 [==============================] - 1s 3ms/step - loss: 0.5024 - categorical_accuracy: 0.8260\n",
            "\n",
            "Accuracy - categorical_accuracy: 0.826\n",
            "Loss - categorical_crossentropy: 0.502\n"
          ]
        }
      ],
      "source": [
        "print('* Evaluating the performance of the trained network on the unseen test dataset *')\n",
        "print()\n",
        "\n",
        "evaluate_model = model.evaluate(x=input_test, y=output_test_class_onehot)\n",
        "loss_metric = evaluate_model [0]\n",
        "accuracy_metric = evaluate_model [1]\n",
        "\n",
        "print()\n",
        "print('Accuracy - ' + metrics[0] + ': %0.3f'%accuracy_metric)\n",
        "print('Loss - ' + loss + ': %0.3f'%loss_metric)"
      ]
    },
    {
      "cell_type": "markdown",
      "metadata": {
        "id": "jeMbVYzT1j48"
      },
      "source": [
        "### Train the neural network with a variable number of nodes and a learning rate of 0.1"
      ]
    },
    {
      "cell_type": "code",
      "execution_count": null,
      "metadata": {
        "id": "QsJbian51Aj7"
      },
      "outputs": [],
      "source": [
        "#Fix the learning rate at 0.1 and change the number of nodes in the hidden layer from 10 to 10000. Plot the trained and validation network accuracy vs. the number of nodes.\n",
        "learning_rate_1 = 0.1\n",
        "num_hidden_nodes_1 = [x for x in range(10, 10000, 500)]\n",
        "accuracy_1 = []\n",
        "for i in num_hidden_nodes_1:\n",
        "    model = create_model(num_hidden_nodes=i, learning_rate=learning_rate_1)\n",
        "    history = model.fit(input_train, output_train_class_onehot, \\\n",
        "                    batch_size=batch_size, \\\n",
        "                    epochs=max_epochs, \\\n",
        "                    validation_split=validtrain_split_ratio, \\\n",
        "                    shuffle=batch_shuffle)\n",
        "    accuracy_1.append(history.history['val_categorical_accuracy'][-1])"
      ]
    },
    {
      "cell_type": "code",
      "execution_count": null,
      "metadata": {
        "id": "MPULMVdI1Aj7",
        "colab": {
          "base_uri": "https://localhost:8080/",
          "height": 299
        },
        "outputId": "5502a8e8-42dc-4f3d-9609-8d0cedeb852d"
      },
      "outputs": [
        {
          "output_type": "display_data",
          "data": {
            "text/plain": [
              "<Figure size 432x288 with 1 Axes>"
            ],
            "image/png": "[encoded data removed]"
          },
          "metadata": {
            "needs_background": "light"
          }
        }
      ],
      "source": [
        "plt.plot(num_hidden_nodes_1, accuracy_1)\n",
        "plt.title('Model accuracy_1 metric : ' + metrics[0])\n",
        "plt.ylabel('Accuracy metric')\n",
        "plt.xlabel('Number of nodes')\n",
        "plt.legend(['Validation'], loc='best')\n",
        "plt.show()"
      ]
    },
    {
      "cell_type": "markdown",
      "metadata": {
        "id": "NxGr_59Y1Aj8"
      },
      "source": [
        "### Train the neural network with 500 nodes and a variable learning rate"
      ]
    },
    {
      "cell_type": "code",
      "execution_count": null,
      "metadata": {
        "id": "Mm_76kO01Aj8"
      },
      "outputs": [],
      "source": [
        "# Fix the number of nodes in the hidden layer to 500 and change the learning rate from 0.01 to 10. Plot the trained and validation network accuracy vs. learning rate.\n",
        "\n",
        "num_hidden_nodes_2 = 500\n",
        "learning_rate_2 = [x*0.01 for x in range(1, 1020, 20)]\n",
        "accuracy_2 = []\n",
        "\n",
        "for i in learning_rate_2:\n",
        "    model = create_model(num_hidden_nodes=num_hidden_nodes_2, learning_rate=i)\n",
        "    history = model.fit(input_train, output_train_class_onehot, \\\n",
        "                    batch_size=batch_size, \\\n",
        "                    epochs=max_epochs, \\\n",
        "                    validation_split=validtrain_split_ratio, \\\n",
        "                    shuffle=batch_shuffle)\n",
        "    accuracy_2.append(history.history['val_categorical_accuracy'][-1])\n"
      ]
    },
    {
      "cell_type": "code",
      "execution_count": null,
      "metadata": {
        "id": "MNkwOfw31Aj9",
        "outputId": "d768b2d4-d77d-4b03-b3b9-e37ffd20e2bb",
        "colab": {
          "base_uri": "https://localhost:8080/",
          "height": 295
        }
      },
      "outputs": [
        {
          "output_type": "display_data",
          "data": {
            "text/plain": [
              "<Figure size 432x288 with 1 Axes>"
            ],
            "image/png": "[encoded data removed]"
          },
          "metadata": {
            "needs_background": "light"
          }
        }
      ],
      "source": [
        "plt.plot(learning_rate_2, accuracy_2)\n",
        "plt.title('Model accuracy_2 metric : ' + metrics[0])\n",
        "plt.ylabel('Accuracy_2 metric')\n",
        "plt.xlabel('Learning rate 2')\n",
        "plt.legend(['Validation'], loc='best')\n",
        "plt.show()"
      ]
    },
    {
      "cell_type": "code",
      "source": [],
      "metadata": {
        "id": "WOLoDNHz23nc"
      },
      "execution_count": null,
      "outputs": []
    }
  ],
  "metadata": {
    "accelerator": "GPU",
    "colab": {
      "collapsed_sections": [
        "xsMY2VZgywF8"
      ],
      "provenance": [],
      "toc_visible": true,
      "include_colab_link": true
    },
    "gpuClass": "standard",
    "kernelspec": {
      "display_name": "Python 3",
      "language": "python",
      "name": "python3"
    },
    "language_info": {
      "codemirror_mode": {
        "name": "ipython",
        "version": 3
      },
      "file_extension": ".py",
      "mimetype": "text/x-python",
      "name": "python",
      "nbconvert_exporter": "python",
      "pygments_lexer": "ipython3",
      "version": "3.9.13"
    }
  },
  "nbformat": 4,
  "nbformat_minor": 0
}