{
  "nbformat": 4,
  "nbformat_minor": 0,
  "metadata": {
    "colab": {
      "name": "DL4OI-Week3.ipynb",
      "provenance": [],
      "collapsed_sections": [],
      "toc_visible": true
    },
    "kernelspec": {
      "name": "python3",
      "display_name": "Python 3"
    }
  },
  "cells": [
    {
      "cell_type": "markdown",
      "metadata": {
        "id": "M6pGsnmyVIvn",
        "colab_type": "text"
      },
      "source": [
        "# Importing libraries"
      ]
    },
    {
      "cell_type": "code",
      "metadata": {
        "id": "3MFM4eE-n_YM",
        "colab_type": "code",
        "colab": {}
      },
      "source": [
        "import tensorflow as tf\n",
        "import numpy as np\n",
        "import matplotlib.pyplot as plt\n",
        "import random\n",
        "import skimage\n",
        "from tensorflow import keras\n",
        "from skimage import transform\n",
        "from skimage import data\n",
        "from skimage.color import rgb2gray\n",
        "from skimage.transform import resize\n",
        "from skimage.filters import threshold_mean\n",
        "from tqdm import tqdm"
      ],
      "execution_count": 0,
      "outputs": []
    },
    {
      "cell_type": "markdown",
      "metadata": {
        "id": "KF8m5bT46bpN",
        "colab_type": "text"
      },
      "source": [
        "# Functions"
      ]
    },
    {
      "cell_type": "code",
      "metadata": {
        "id": "jN9A7YUc6dBs",
        "colab_type": "code",
        "colab": {}
      },
      "source": [
        "def plot(a,ix,iy):\n",
        "    a=a.reshape(ix,iy)\n",
        "    plt.imshow(a,cmap='viridis')\n",
        "    plt.axis('off')\n",
        "    \n",
        "def imageprepare(image,ix,iy):\n",
        "  image=resize(image,(ix,iy),mode='reflect')\n",
        "  image=(image>threshold_mean(image))*2-1\n",
        "  image=np.reshape(image,ix*iy)\n",
        "  return image"
      ],
      "execution_count": 0,
      "outputs": []
    },
    {
      "cell_type": "markdown",
      "metadata": {
        "id": "DEZLNMDDVwVP",
        "colab_type": "text"
      },
      "source": [
        "# Image preparation"
      ]
    },
    {
      "cell_type": "code",
      "metadata": {
        "id": "WorTn0YLyN7s",
        "colab_type": "code",
        "colab": {}
      },
      "source": [
        "ix=84\n",
        "iy=84\n",
        "\n",
        "(x_train, y_train), (x_test, y_test) = tf.keras.datasets.mnist.load_data()\n",
        "\n",
        "zeroPositions=np.where(y_train==0)[0]\n",
        "onePositions=np.where(y_train==1)[0]\n",
        "twoPositions=np.where(y_train==2)[0]\n",
        "threePositions=np.where(y_train==3)[0]\n",
        "fourPositions=np.where(y_train==4)[0]\n",
        "fivePositions=np.where(y_train==5)[0]\n",
        "sixPositions=np.where(y_train==6)[0]\n",
        "sevenPositions=np.where(y_train==7)[0]\n",
        "eightPositions=np.where(y_train==8)[0]\n",
        "ninePositions=np.where(y_train==9)[0]\n",
        "\n",
        "trainImg=[]\n",
        "trainImg.append(x_train[zeroPositions[5]]) # random index\n",
        "trainImg.append(x_train[onePositions[5]]) \n",
        "trainImg.append(x_train[twoPositions[5]]) \n",
        "trainImg.append(x_train[threePositions[5]])\n",
        "trainImg.append(x_train[fourPositions[5]])\n",
        "trainImg.append(x_train[fivePositions[5]])\n",
        "trainImg.append(x_train[sixPositions[5]]) \n",
        "trainImg.append(x_train[sevenPositions[5]])\n",
        "trainImg.append(x_train[eightPositions[5]])\n",
        "\n",
        "train=[]\n",
        "for i in range(9):\n",
        "    j=i%9\n",
        "    img=np.ones([ix,iy])\n",
        "    img[(j%3)*28:((j%3)+1)*28,int(j/3)*28:((int(j/3))+1)*28]=trainImg[i]\n",
        "    train.append(img)\n",
        "\n",
        "train=np.array(train)\n",
        "test=np.array(train)\n",
        "\n",
        "train=train.reshape(9,84*84)\n",
        "test=test.reshape(9,84*84)\n",
        "\n",
        "num_data =  len(train)\n",
        "num_neuron = train[0].shape[0]"
      ],
      "execution_count": 0,
      "outputs": []
    },
    {
      "cell_type": "markdown",
      "metadata": {
        "id": "1sESRFppB7Ey",
        "colab_type": "text"
      },
      "source": [
        "# Auto-associative"
      ]
    },
    {
      "cell_type": "markdown",
      "metadata": {
        "id": "pIX3e68IWBOP",
        "colab_type": "text"
      },
      "source": [
        "# Weight initialization"
      ]
    },
    {
      "cell_type": "code",
      "metadata": {
        "id": "fygNrfawWG83",
        "colab_type": "code",
        "outputId": "8712657a-c8a9-468b-aff5-c7a5dab22753",
        "colab": {
          "base_uri": "https://localhost:8080/",
          "height": 34
        }
      },
      "source": [
        "w=np.zeros([num_neuron,num_neuron])\n",
        "rho=sum(sum(train))/(num_neuron*num_data)\n",
        "\n",
        "for i in tqdm(range(len(train))):\n",
        "    imag=train[i]-rho\n",
        "    w+=np.einsum('i,j->ij',imag,imag)\n",
        "diagW = np.diag(np.diag(w))\n",
        "w = w - diagW\n",
        "w /= num_data"
      ],
      "execution_count": 39,
      "outputs": [
        {
          "output_type": "stream",
          "text": [
            "100%|██████████| 9/9 [00:01<00:00,  5.68it/s]\n"
          ],
          "name": "stderr"
        }
      ]
    },
    {
      "cell_type": "markdown",
      "metadata": {
        "id": "78sXPSAUUj2x",
        "colab_type": "text"
      },
      "source": [
        "# Network test"
      ]
    },
    {
      "cell_type": "code",
      "metadata": {
        "id": "doRu4Oo0Un2j",
        "colab_type": "code",
        "outputId": "402b22e3-e6c0-4e54-ae2b-72ece54d533d",
        "colab": {
          "base_uri": "https://localhost:8080/",
          "height": 281
        }
      },
      "source": [
        "out=[]\n",
        "\n",
        "for i in tqdm(range(len(test))):\n",
        "    testr=np.copy(test[i])\n",
        "    for j in range(it):\n",
        "        testr=np.sign(w@testr)\n",
        "    out.append(testr)\n",
        "\n",
        "out=np.array(out)\n",
        "\n",
        "for i in range(len(test)):\n",
        "    plt.subplot(len(test),3,3*i+1);plot(train[i],ix,iy); \n",
        "    if(i==0):plt.title('Training');\n",
        "    plt.subplot(len(test),3,3*i+2);plot(test[i],ix,iy); \n",
        "    if(i==0):plt.title('Test input');\n",
        "    plt.subplot(len(test),3,3*i+3);plot(out[i],ix,iy); \n",
        "    if(i==0):plt.title('Reconstructed image');"
      ],
      "execution_count": 40,
      "outputs": [
        {
          "output_type": "stream",
          "text": [
            "100%|██████████| 9/9 [00:00<00:00, 18.58it/s]\n"
          ],
          "name": "stderr"
        },
        {
          "output_type": "display_data",
          "data": {
            "image/png": "[encoded data removed]",
            "text/plain": [
              "<Figure size 432x288 with 27 Axes>"
            ]
          },
          "metadata": {
            "tags": []
          }
        }
      ]
    },
    {
      "cell_type": "markdown",
      "metadata": {
        "id": "CF744vF2Byy6",
        "colab_type": "text"
      },
      "source": [
        "# Hetero-associative"
      ]
    },
    {
      "cell_type": "markdown",
      "metadata": {
        "id": "o5FHPUF7CEjZ",
        "colab_type": "text"
      },
      "source": [
        "# Weight initialization"
      ]
    },
    {
      "cell_type": "code",
      "metadata": {
        "id": "YdG3QRPw_6JV",
        "colab_type": "code",
        "colab": {
          "base_uri": "https://localhost:8080/",
          "height": 34
        },
        "outputId": "61dd923a-f70d-43ac-d19b-c27aa4821263"
      },
      "source": [
        "w=np.zeros([num_neuron,num_neuron])\n",
        "rho=sum(sum(train))/(num_neuron*num_data)\n",
        "\n",
        "for i in tqdm(range(len(train))):\n",
        "    imag=train[i]-rho\n",
        "    imag2=train[(i+1)%9]-rho\n",
        "    w+=np.einsum('i,j->ij',imag,imag2)\n",
        "diagW = np.diag(np.diag(w))\n",
        "w = w - diagW\n",
        "w /= num_data"
      ],
      "execution_count": 41,
      "outputs": [
        {
          "output_type": "stream",
          "text": [
            "100%|██████████| 9/9 [00:02<00:00,  4.03it/s]\n"
          ],
          "name": "stderr"
        }
      ]
    },
    {
      "cell_type": "markdown",
      "metadata": {
        "id": "3Eghn1GwCIa4",
        "colab_type": "text"
      },
      "source": [
        "# Network test"
      ]
    },
    {
      "cell_type": "code",
      "metadata": {
        "id": "JEm8VDa4Azvf",
        "colab_type": "code",
        "colab": {
          "base_uri": "https://localhost:8080/",
          "height": 281
        },
        "outputId": "8a5a9056-681e-48f1-cf05-3a3177c37fb4"
      },
      "source": [
        "out=[]\n",
        "\n",
        "for i in tqdm(range(len(test))):\n",
        "    testr=np.copy(test[i])\n",
        "    for j in range(it):\n",
        "        testr=np.sign(w@testr)\n",
        "    out.append(testr)\n",
        "\n",
        "out=np.array(out)\n",
        "\n",
        "for i in range(len(test)):\n",
        "    plt.subplot(len(test),3,3*i+1);plot(train[i],ix,iy); \n",
        "    if(i==0):plt.title('Training');\n",
        "    plt.subplot(len(test),3,3*i+2);plot(test[i],ix,iy); \n",
        "    if(i==0):plt.title('Test input');\n",
        "    plt.subplot(len(test),3,3*i+3);plot(out[i],ix,iy); \n",
        "    if(i==0):plt.title('Reconstructed image');"
      ],
      "execution_count": 42,
      "outputs": [
        {
          "output_type": "stream",
          "text": [
            "100%|██████████| 9/9 [00:00<00:00, 29.38it/s]\n"
          ],
          "name": "stderr"
        },
        {
          "output_type": "display_data",
          "data": {
            "image/png": "[encoded data removed]",
            "text/plain": [
              "<Figure size 432x288 with 27 Axes>"
            ]
          },
          "metadata": {
            "tags": []
          }
        }
      ]
    },
    {
      "cell_type": "code",
      "metadata": {
        "id": "xtUQAi3IBHNX",
        "colab_type": "code",
        "colab": {}
      },
      "source": [
        ""
      ],
      "execution_count": 0,
      "outputs": []
    }
  ]
}