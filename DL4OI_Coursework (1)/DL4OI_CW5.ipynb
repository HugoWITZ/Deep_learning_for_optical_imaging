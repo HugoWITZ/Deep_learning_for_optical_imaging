{
  "nbformat": 4,
  "nbformat_minor": 0,
  "metadata": {
    "colab": {
      "name": "DL4OI_CW5.ipynb",
      "provenance": [],
      "private_outputs": true,
      "collapsed_sections": [
        "xsMY2VZgywF8"
      ],
      "toc_visible": true
    },
    "kernelspec": {
      "name": "python3",
      "display_name": "Python 3"
    },
    "accelerator": "GPU"
  },
  "cells": [
    {
      "cell_type": "markdown",
      "metadata": {
        "id": "MNJD-ZfNBpXd",
        "colab_type": "text"
      },
      "source": [
        "# Import Libraries"
      ]
    },
    {
      "cell_type": "code",
      "metadata": {
        "id": "jaV4mHBXVj2x",
        "colab_type": "code",
        "colab": {}
      },
      "source": [
        "import numpy as np\n",
        "import tensorflow as tf\n",
        "import matplotlib.pyplot as plt\n",
        "from tqdm import tqdm\n",
        "\n",
        "from tensorflow.keras.models import Model\n",
        "from tensorflow.keras.layers import Input, Activation\n",
        "from tensorflow.keras.layers import Dense, Dropout, Flatten\n",
        "from tensorflow.keras.optimizers import SGD\n",
        "\n",
        "import cv2"
      ],
      "execution_count": 0,
      "outputs": []
    },
    {
      "cell_type": "markdown",
      "metadata": {
        "id": "Ymm9ZwzgBkIK",
        "colab_type": "text"
      },
      "source": [
        "# Data Preparation"
      ]
    },
    {
      "cell_type": "code",
      "metadata": {
        "id": "lxMLelekV8xh",
        "colab_type": "code",
        "colab": {}
      },
      "source": [
        "mnist = tf.keras.datasets.mnist  # load mnist dataset from tensorflow\n",
        "(input_train, output_train_class), (input_test, output_test_class) = mnist.load_data()\n",
        "\n",
        "input_train= input_train.reshape(input_train.shape[0], 28*28, 1) \n",
        "input_test= input_test.reshape(input_test.shape[0], 28*28, 1)\n",
        "\n",
        "input_train = input_train / 255.0  # max normalise the image data[0:1]\n",
        "input_test = input_test / 255.0"
      ],
      "execution_count": 0,
      "outputs": []
    },
    {
      "cell_type": "markdown",
      "metadata": {
        "id": "MmG0wSn-BzPD",
        "colab_type": "text"
      },
      "source": [
        "# Exercise 1"
      ]
    },
    {
      "cell_type": "code",
      "metadata": {
        "id": "TVOQwMTkdrdb",
        "colab_type": "code",
        "colab": {}
      },
      "source": [
        "optimizer_type = SGD(lr=0.2)  # optimisation algorithm: SGD stochastic gradient decent \n",
        "loss = 'mean_squared_error'\n",
        "metrics = ['mean_absolute_error']  # network accuracy metric to be determined after each epoch\n",
        "dropout_ratio = 0.0  # % of nodes in the hidden layer to dropout during back-propagation update of the network weights\n",
        "validtrain_split_ratio = 0.2  # % of the seen dataset to be put aside for validation, rest is for training\n",
        "max_epochs = 1000  # maxmimum number of epochs to be iterated\n",
        "batch_size = 300   # batch size for the training data set\n",
        "batch_shuffle = True   # shuffle the training data prior to batching before each epoch\n",
        "num_hidden_nodes = 200  # number of nodes in hidden fully connected layer\n",
        "\n",
        "input_shape = (28*28, 1)\n",
        "inputs = Input(shape=input_shape)\n",
        "\n",
        "flatten = Flatten()(inputs)   # 784 nodes = 28x28\n",
        "\n",
        "dense_01 = Dense(num_hidden_nodes)(flatten)\n",
        "dense_01 = Activation('sigmoid')(dense_01)\n",
        "dense_01 = Dropout(dropout_ratio)(dense_01)\n",
        "\n",
        "dense_02 = Dense(28*28)(dense_01)\n",
        "outputs = Activation('sigmoid')(dense_02)\n",
        "\n",
        "model = Model(inputs=inputs, outputs=outputs)\n",
        "model.compile(optimizer=optimizer_type, loss=loss, metrics=metrics)\n",
        "\n",
        "history = model.fit(input_train, input_train.reshape(len(input_train),28*28),\\\n",
        "                    batch_size=batch_size, \\\n",
        "                    epochs=max_epochs, \\\n",
        "                    validation_split=validtrain_split_ratio, \\\n",
        "                    shuffle=batch_shuffle)"
      ],
      "execution_count": 0,
      "outputs": []
    },
    {
      "cell_type": "code",
      "metadata": {
        "id": "sqrsPdZ3WIF0",
        "colab_type": "code",
        "colab": {}
      },
      "source": [
        "sort=np.argsort(output_test_class)\n",
        "test=input_test[sort]\n",
        "output_test=output_test_class[sort]\n",
        "\n",
        "_,i=np.unique(output_test,True)\n",
        "imgs=test[i].reshape(test[i].shape[0],28,28)\n",
        "preds=model.predict(test[i].reshape(test[i].shape[0],28*28,1))\n",
        "preds=preds.reshape(preds.shape[0],28,28)\n",
        "for i in range(10):\n",
        "  plt.figure(i)\n",
        "  plt.subplot(121);plt.imshow(imgs[i],cmap='viridis');plt.grid(False)\n",
        "  plt.subplot(122);plt.imshow(preds[i],cmap='viridis');plt.grid(False)"
      ],
      "execution_count": 0,
      "outputs": []
    },
    {
      "cell_type": "markdown",
      "metadata": {
        "id": "xUnjUT7OCFgr",
        "colab_type": "text"
      },
      "source": [
        "# Exercises 2 and 3"
      ]
    },
    {
      "cell_type": "code",
      "metadata": {
        "id": "D9Fa0l6KNV1A",
        "colab_type": "code",
        "colab": {}
      },
      "source": [
        "num_hidden_nodes = 500  # number of nodes in hidden fully connected layer\n",
        "\n",
        "input_shape = (28*28, 1)\n",
        "inputs = Input(shape=input_shape)\n",
        "\n",
        "flatten = Flatten()(inputs)   # 784 nodes = 28x28\n",
        "\n",
        "dense_01 = Dense(num_hidden_nodes)(flatten)\n",
        "dense_01 = Activation('sigmoid')(dense_01)\n",
        "dense_01 = Dropout(dropout_ratio)(dense_01)\n",
        "\n",
        "dense_02 = Dense(28*28)(dense_01)\n",
        "outputs = Activation('sigmoid')(dense_02)\n",
        "\n",
        "model = Model(inputs=inputs, outputs=outputs)\n",
        "model.compile(optimizer=optimizer_type, loss=loss, metrics=metrics)\n",
        "\n",
        "blurredImgs=[]\n",
        "for i in range(input_train.shape[0]):\n",
        "  blurredImgs.append(cv2.GaussianBlur(input_train[i],(19,19),0))\n",
        "blurredImgs=np.array(blurredImgs)\n",
        "blurredImgs=blurredImgs.reshape(blurredImgs.shape[0],28*28,1)\n",
        "\n",
        "history = model.fit(blurredImgs, input_train.reshape(len(input_train),28*28),\\\n",
        "                    batch_size=batch_size, \\\n",
        "                    epochs=max_epochs, \\\n",
        "                    validation_split=validtrain_split_ratio, \\\n",
        "                    shuffle=batch_shuffle)"
      ],
      "execution_count": 0,
      "outputs": []
    },
    {
      "cell_type": "code",
      "metadata": {
        "id": "PUZ8nyD_9reM",
        "colab_type": "code",
        "colab": {}
      },
      "source": [
        "sort=np.argsort(output_test_class)\n",
        "test=input_test[sort]\n",
        "output_test=output_test_class[sort]\n",
        "\n",
        "blurredTestImgs=[]\n",
        "for i in range(test.shape[0]):\n",
        "  blurredTestImgs.append(cv2.GaussianBlur(test[i],(19,19),0))\n",
        "blurredTestImgs=np.array(blurredTestImgs)\n",
        "blurredTestImgs=blurredTestImgs.reshape(blurredTestImgs.shape[0],28*28,1)\n",
        "\n",
        "_,i=np.unique(output_test,True)\n",
        "imgs=test[i].reshape(test[i].shape[0],28,28)\n",
        "imgsBlurred=blurredTestImgs[i].reshape(blurredTestImgs[i].shape[0],28,28)\n",
        "preds=model.predict(blurredTestImgs[i].reshape(blurredTestImgs[i].shape[0],28*28,1))\n",
        "preds=preds.reshape(preds.shape[0],28,28)\n",
        "for i in range(10):\n",
        "  plt.figure(i)\n",
        "  plt.subplot(131);plt.imshow(imgs[i],cmap='viridis');plt.grid(False)\n",
        "  plt.subplot(132);plt.imshow(imgsBlurred[i],cmap='viridis');plt.grid(False)\n",
        "  plt.subplot(133);plt.imshow(preds[i],cmap='viridis');plt.grid(False)"
      ],
      "execution_count": 0,
      "outputs": []
    }
  ]
}