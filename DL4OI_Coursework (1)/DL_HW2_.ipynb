{
  "nbformat": 4,
  "nbformat_minor": 0,
  "metadata": {
    "colab": {
      "name": "adaline.ipynb",
      "provenance": [],
      "collapsed_sections": [],
      "toc_visible": true
    },
    "kernelspec": {
      "name": "python3",
      "display_name": "Python 3"
    }
  },
  "cells": [
    {
      "cell_type": "markdown",
      "metadata": {
        "id": "M6pGsnmyVIvn",
        "colab_type": "text"
      },
      "source": [
        "# Importing libraries"
      ]
    },
    {
      "cell_type": "code",
      "metadata": {
        "id": "3MFM4eE-n_YM",
        "colab_type": "code",
        "colab": {}
      },
      "source": [
        "try:\n",
        "  # %tensorflow_version only exists in Colab.\n",
        "  %tensorflow_version 2.x\n",
        "except Exception:\n",
        "  pass\n",
        "\n",
        "import tensorflow as tf\n",
        "import numpy as np\n",
        "import matplotlib.pyplot as plt\n",
        "import random\n",
        "import skimage\n",
        "from skimage import transform\n",
        "from tensorflow import keras"
      ],
      "execution_count": 0,
      "outputs": []
    },
    {
      "cell_type": "markdown",
      "metadata": {
        "id": "MnDEzDLdVl1W",
        "colab_type": "text"
      },
      "source": [
        "# Function for calcualting the accuracy of the classification"
      ]
    },
    {
      "cell_type": "code",
      "metadata": {
        "id": "8xmo0BjyVtWI",
        "colab_type": "code",
        "colab": {}
      },
      "source": [
        "def acc(output,label):\n",
        "    test=((output[:,0]-label)==0)*1.0\n",
        "    return sum(test)/len(test)*100"
      ],
      "execution_count": 0,
      "outputs": []
    },
    {
      "cell_type": "markdown",
      "metadata": {
        "id": "DEZLNMDDVwVP",
        "colab_type": "text"
      },
      "source": [
        "# Network inputs"
      ]
    },
    {
      "cell_type": "markdown",
      "metadata": {
        "id": "4i9XXr6cYrQJ",
        "colab_type": "text"
      },
      "source": [
        "Loading data (Digits)"
      ]
    },
    {
      "cell_type": "code",
      "metadata": {
        "id": "Zmu4K3fFYwN5",
        "colab_type": "code",
        "outputId": "3c02dcde-3f99-4b03-cced-c1c0d178ee4d",
        "colab": {
          "base_uri": "https://localhost:8080/",
          "height": 34
        }
      },
      "source": [
        "ix=28*28 # Number of features\n",
        "epochs=20\n",
        "digits=[0,1] # Digits to classify\n",
        "\n",
        "# Loading data\n",
        "mnist=keras.datasets.mnist\n",
        "(train_images, train_labels), (test_images, test_labels) = mnist.load_data()\n",
        "\n",
        "\n",
        "# Training\n",
        "\n",
        "indices=np.append(np.where(train_labels==digits[0]),np.where(train_labels==digits[1]))\n",
        "train=train_images[indices]\n",
        "train=train.reshape(len(train),28*28)\n",
        "print(train.shape)\n",
        "# Additional column is added to the training set instead of calculating biases\n",
        "train=np.concatenate((train,np.ones([len(train),1])),axis=1)\n",
        "train_lbl=train_labels[indices]\n",
        "train_lbl=(train_lbl==digits[1])*1.0\n",
        "\n",
        "# Test\n",
        "\n",
        "indices=np.append(np.where(test_labels==digits[0]),np.where(test_labels==digits[1]))\n",
        "test=test_images[indices]\n",
        "test=test.reshape(len(test),28*28)\n",
        "test=np.concatenate((test,np.ones([len(test),1])),axis=1)\n",
        "test_lbl=test_labels[indices]\n",
        "test_lbl=(test_lbl==digits[1])*1.0"
      ],
      "execution_count": 130,
      "outputs": [
        {
          "output_type": "stream",
          "text": [
            "(12665, 784)\n"
          ],
          "name": "stdout"
        }
      ]
    },
    {
      "cell_type": "markdown",
      "metadata": {
        "id": "pIX3e68IWBOP",
        "colab_type": "text"
      },
      "source": [
        "# Perceptron"
      ]
    },
    {
      "cell_type": "code",
      "metadata": {
        "id": "fygNrfawWG83",
        "colab_type": "code",
        "outputId": "abc5cebf-726d-4015-bd64-b2af3a352494",
        "colab": {
          "base_uri": "https://localhost:8080/",
          "height": 508
        }
      },
      "source": [
        "# Training\n",
        "w=np.random.rand(ix+1,1) # Weights initialization\n",
        "print('\\nTraining:\\n')\n",
        "for epoch in range(epochs):\n",
        "    loss=0\n",
        "    for i in range(len(train)):\n",
        "        logits=np.einsum('i,ij->j',train[i],w)\n",
        "        logits=(logits>0)*1.0 # Activation function\n",
        "        error=train_lbl[i]-logits # Error calculation\n",
        "        w=w+train[i].reshape(train[i].shape[0],1)*error # Weight update\n",
        "        loss+=abs(error)\n",
        "\n",
        "    # Training set accuracy\n",
        "    logits=np.einsum('ij,jk->ik',train,w)\n",
        "    logits=(logits>0)*1.0\n",
        "    print('Epoch: {:}, error: {:0.2f} accuracy: {:0.2f}'.format(epoch,loss[0],acc(logits,train_lbl)))\n",
        "\n",
        "\n",
        "# Test set accuracy\n",
        "print('\\nTest:\\n')\n",
        "logits=np.einsum('ij,jk->ik',test,w)\n",
        "logits=(logits>0)*1.0\n",
        "print('Test accuracy: {:0.2f}'.format(acc(logits,test_lbl)))"
      ],
      "execution_count": 0,
      "outputs": [
        {
          "output_type": "stream",
          "text": [
            "\n",
            "Training:\n",
            "\n",
            "Epoch: 0, error: 4.00 accuracy: 71.72\n",
            "Epoch: 1, error: 6.00 accuracy: 54.12\n",
            "Epoch: 2, error: 7.00 accuracy: 95.92\n",
            "Epoch: 3, error: 6.00 accuracy: 87.65\n",
            "Epoch: 4, error: 5.00 accuracy: 97.89\n",
            "Epoch: 5, error: 5.00 accuracy: 96.06\n",
            "Epoch: 6, error: 7.00 accuracy: 98.40\n",
            "Epoch: 7, error: 7.00 accuracy: 98.61\n",
            "Epoch: 8, error: 5.00 accuracy: 99.18\n",
            "Epoch: 9, error: 8.00 accuracy: 98.87\n",
            "Epoch: 10, error: 5.00 accuracy: 98.85\n",
            "Epoch: 11, error: 5.00 accuracy: 98.50\n",
            "Epoch: 12, error: 5.00 accuracy: 99.84\n",
            "Epoch: 13, error: 7.00 accuracy: 99.25\n",
            "Epoch: 14, error: 5.00 accuracy: 99.55\n",
            "Epoch: 15, error: 5.00 accuracy: 99.70\n",
            "Epoch: 16, error: 6.00 accuracy: 99.54\n",
            "Epoch: 17, error: 4.00 accuracy: 99.42\n",
            "Epoch: 18, error: 4.00 accuracy: 99.64\n",
            "Epoch: 19, error: 5.00 accuracy: 99.72\n",
            "\n",
            "Test:\n",
            "\n",
            "Test accuracy: 99.91\n"
          ],
          "name": "stdout"
        }
      ]
    },
    {
      "cell_type": "markdown",
      "metadata": {
        "id": "ON-rJp3pRty4",
        "colab_type": "text"
      },
      "source": [
        "# Difference between Perceptron and ADALINE\n",
        "\n",
        "![alt text](https://sebastianraschka.com/images/faq/diff-perceptron-adaline-neuralnet/4.png)"
      ]
    },
    {
      "cell_type": "markdown",
      "metadata": {
        "colab_type": "text",
        "id": "_Iua2QZDN6q-"
      },
      "source": [
        "# Image rotation"
      ]
    },
    {
      "cell_type": "code",
      "metadata": {
        "id": "9mrfY034OAG2",
        "colab_type": "code",
        "outputId": "4e4d5d2c-e031-4b2a-b560-59932f549694",
        "colab": {
          "base_uri": "https://localhost:8080/",
          "height": 239
        }
      },
      "source": [
        "# Loading data\n",
        "mnist=keras.datasets.mnist\n",
        "(train_images, train_labels), (test_images, test_labels) = mnist.load_data()\n",
        "\n",
        "# Original image\n",
        "image=train_images[1]\n",
        "\n",
        "# Rotated image\n",
        "imager=skimage.transform.rotate(image,60)\n",
        "\n",
        "# Plot\n",
        "plt.subplot(121);plt.imshow(image,cmap='viridis');plt.grid(False);plt.axis('off');plt.title('Original image',fontsize=22);plt.tight_layout()\n",
        "plt.subplot(122);plt.imshow(imager,cmap='viridis');plt.grid(False);plt.axis('off');plt.title('Rotated image (60$\\degree$)',fontsize=22);plt.tight_layout()\n",
        "\n"
      ],
      "execution_count": 0,
      "outputs": [
        {
          "output_type": "display_data",
          "data": {
            "image/png": "[encoded data removed]",
            "text/plain": [
              "<Figure size 432x288 with 2 Axes>"
            ]
          },
          "metadata": {
            "tags": []
          }
        }
      ]
    },
    {
      "cell_type": "markdown",
      "metadata": {
        "id": "f7vsxBBFa3B-",
        "colab_type": "text"
      },
      "source": [
        "# Adaline"
      ]
    },
    {
      "cell_type": "code",
      "metadata": {
        "id": "xxd8DqOCT49i",
        "colab_type": "code",
        "outputId": "a9db48a2-30a6-4042-aebc-812eb3a856eb",
        "colab": {
          "base_uri": "https://localhost:8080/",
          "height": 476
        }
      },
      "source": [
        "# Training\n",
        "alpha = 0.01\n",
        "w=np.random.rand(ix+1,1) # Weights initialization\n",
        "print('\\nTraining:\\n')\n",
        "for epoch in range(epochs):\n",
        "    loss=0\n",
        "    for i in range(len(train)):\n",
        "        s=np.einsum('i,ij->j',train[i],w)\n",
        "        logits=1/(1+np.exp(-0.0001*s)) # Activation function\n",
        "        error=train_lbl[i]-logits # Error calculation\n",
        "        gradient=logits*(1-logits)\n",
        "        deltaW=alpha*gradient*error*logits*train[i].reshape(train[i].shape[0],1)\n",
        "        w=w+deltaW # Weight update\n",
        "        loss+=abs(error)\n",
        "        logits=np.round(logits)\n",
        "\n",
        "    # Training set accuracy\n",
        "    s=np.einsum('ij,jk->ik',train,w)\n",
        "    logits=1/(1+np.exp(-0.0001*s)) # Activation function\n",
        "    logits=np.round(logits)\n",
        "    print('Epoch: {:}, error: {:0.2f} accuracy: {:0.2f}'.format(epoch,loss[0],acc(logits,train_lbl)))\n",
        "\n",
        "\n",
        "# Test set accuracy\n",
        "print('\\nTest:\\n')\n",
        "s=np.einsum('ij,jk->ik',test,w)\n",
        "logits=1/(1+np.exp(-0.0001*s)) # Activation function\n",
        "logits=np.round(logits)\n",
        "print('Test accuracy: {:0.2f}'.format(acc(logits,test_lbl)))"
      ],
      "execution_count": 0,
      "outputs": [
        {
          "output_type": "stream",
          "text": [
            "\n",
            "Training:\n",
            "\n",
            "Epoch: 0, error: 142.38 accuracy: 81.70\n",
            "Epoch: 1, error: 94.87 accuracy: 98.13\n",
            "Epoch: 2, error: 81.51 accuracy: 99.24\n",
            "Epoch: 3, error: 73.60 accuracy: 99.56\n",
            "Epoch: 4, error: 67.75 accuracy: 99.62\n",
            "Epoch: 5, error: 62.99 accuracy: 99.67\n",
            "Epoch: 6, error: 59.02 accuracy: 99.72\n",
            "Epoch: 7, error: 55.63 accuracy: 99.74\n",
            "Epoch: 8, error: 52.71 accuracy: 99.76\n",
            "Epoch: 9, error: 50.21 accuracy: 99.79\n",
            "Epoch: 10, error: 48.08 accuracy: 99.81\n",
            "Epoch: 11, error: 46.27 accuracy: 99.82\n",
            "Epoch: 12, error: 44.73 accuracy: 99.83\n",
            "Epoch: 13, error: 43.40 accuracy: 99.86\n",
            "Epoch: 14, error: 42.24 accuracy: 99.86\n",
            "Epoch: 15, error: 41.19 accuracy: 99.86\n",
            "Epoch: 16, error: 40.21 accuracy: 99.87\n",
            "Epoch: 17, error: 39.27 accuracy: 99.87\n",
            "Epoch: 18, error: 38.36 accuracy: 99.87\n",
            "Epoch: 19, error: 37.47 accuracy: 99.89\n",
            "\n",
            "Test:\n",
            "\n",
            "Test accuracy: 99.95\n"
          ],
          "name": "stdout"
        }
      ]
    },
    {
      "cell_type": "markdown",
      "metadata": {
        "id": "BaipTy9wa6u0",
        "colab_type": "text"
      },
      "source": [
        "# Rotation test only"
      ]
    },
    {
      "cell_type": "code",
      "metadata": {
        "id": "GhhFyta5bB58",
        "colab_type": "code",
        "outputId": "79b4353e-823b-4022-f502-9b1098b632ed",
        "colab": {
          "base_uri": "https://localhost:8080/",
          "height": 408
        }
      },
      "source": [
        "# Training\n",
        "alpha = 0.01\n",
        "w=np.random.rand(ix+1,1) # Weights initialization\n",
        "print('\\nTraining:\\n')\n",
        "for epoch in range(epochs):\n",
        "    loss=0\n",
        "    for i in range(len(train)):\n",
        "        s=np.einsum('i,ij->j',train[i],w)\n",
        "        logits=1/(1+np.exp(-0.0001*s)) # Activation function\n",
        "        error=train_lbl[i]-logits # Error calculation\n",
        "        gradient=logits*(1-logits)\n",
        "        deltaW=alpha*gradient*error*train[i].reshape(train[i].shape[0],1)\n",
        "        w=w+deltaW # Weight update\n",
        "        loss+=abs(error)\n",
        "\n",
        "    # Training set accuracy\n",
        "    s=np.einsum('ij,jk->ik',train,w)\n",
        "    logits=1/(1+np.exp(-0.0001*s)) # Activation function\n",
        "    logits=np.round(logits)\n",
        "    print('Epoch: {:}, error: {:0.2f} accuracy: {:0.2f}'.format(epoch,loss[0],acc(logits,train_lbl)))"
      ],
      "execution_count": 131,
      "outputs": [
        {
          "output_type": "stream",
          "text": [
            "\n",
            "Training:\n",
            "\n",
            "Epoch: 0, error: 142.48 accuracy: 82.24\n",
            "Epoch: 1, error: 94.99 accuracy: 98.18\n",
            "Epoch: 2, error: 81.57 accuracy: 99.24\n",
            "Epoch: 3, error: 73.72 accuracy: 99.56\n",
            "Epoch: 4, error: 67.85 accuracy: 99.62\n",
            "Epoch: 5, error: 63.08 accuracy: 99.68\n",
            "Epoch: 6, error: 59.08 accuracy: 99.72\n",
            "Epoch: 7, error: 55.68 accuracy: 99.74\n",
            "Epoch: 8, error: 52.75 accuracy: 99.77\n",
            "Epoch: 9, error: 50.24 accuracy: 99.79\n",
            "Epoch: 10, error: 48.10 accuracy: 99.80\n",
            "Epoch: 11, error: 46.28 accuracy: 99.82\n",
            "Epoch: 12, error: 44.73 accuracy: 99.83\n",
            "Epoch: 13, error: 43.40 accuracy: 99.85\n",
            "Epoch: 14, error: 42.24 accuracy: 99.86\n",
            "Epoch: 15, error: 41.20 accuracy: 99.86\n",
            "Epoch: 16, error: 40.22 accuracy: 99.86\n",
            "Epoch: 17, error: 39.29 accuracy: 99.87\n",
            "Epoch: 18, error: 38.39 accuracy: 99.88\n",
            "Epoch: 19, error: 37.51 accuracy: 99.89\n"
          ],
          "name": "stdout"
        }
      ]
    },
    {
      "cell_type": "code",
      "metadata": {
        "id": "G9bv-XlbbfUc",
        "colab_type": "code",
        "outputId": "e8d8b5ae-4147-4aa8-c9cd-3e40f4f4b9ca",
        "colab": {
          "base_uri": "https://localhost:8080/",
          "height": 279
        }
      },
      "source": [
        "# Test set accuracy for rotated datasets\n",
        "testRotated=np.empty(test.shape)\n",
        "angles=np.empty(10)\n",
        "accuracies=np.empty(10)\n",
        "for j in range(10):\n",
        "  for i in range(len(test)):\n",
        "    image=np.reshape(test[i][1:],(28,28))\n",
        "    imageRotated=skimage.transform.rotate(image,j*10)\n",
        "    imageRotated=imageRotated.reshape(28*28)\n",
        "    imageRotated=np.concatenate((imageRotated,np.ones([1])),axis=0)\n",
        "    testRotated[i]=imageRotated\n",
        "\n",
        "  angles[j]=j*10\n",
        "  s=np.einsum('ij,jk->ik',testRotated,w)\n",
        "  logits=(1/(1+np.exp(-0.0001*s))) # Activation function\n",
        "  logits=np.round(logits)\n",
        "  accuracies[j]=acc(logits,test_lbl)\n",
        "\n",
        "plt.plot(angles,accuracies)\n",
        "plt.xlabel('Rotation angle')\n",
        "plt.ylabel('Accuracy (%)')\n",
        "plt.show()"
      ],
      "execution_count": 132,
      "outputs": [
        {
          "output_type": "display_data",
          "data": {
            "image/png": "[encoded data removed]",
            "text/plain": [
              "<Figure size 432x288 with 1 Axes>"
            ]
          },
          "metadata": {
            "tags": []
          }
        }
      ]
    },
    {
      "cell_type": "markdown",
      "metadata": {
        "id": "_LI11w2AbAHs",
        "colab_type": "text"
      },
      "source": [
        "# Rotation train + test"
      ]
    },
    {
      "cell_type": "code",
      "metadata": {
        "id": "ogW_SAribKoB",
        "colab_type": "code",
        "outputId": "fc7a191c-79e5-40f4-8281-83ca0121a483",
        "colab": {
          "base_uri": "https://localhost:8080/",
          "height": 306
        }
      },
      "source": [
        "# Training\n",
        "alpha=0.1\n",
        "w=np.random.rand(ix+1,1) # Weights initialization\n",
        "epochs=10\n",
        "trainRotated=np.empty([train.shape[0]*10,train.shape[1]])\n",
        "trainRotated_lbl=np.empty([train.shape[0]*10])\n",
        "\n",
        "print('\\nTraining:\\n')\n",
        "count=0\n",
        "for epoch in range(epochs):\n",
        "    loss=0\n",
        "    for j in range(10):   \n",
        "        for i in range(len(train)):\n",
        "            s=np.einsum('i,ij->j',train[i],w)\n",
        "            logits=1/(1+np.exp(-0.0001*s)) # Activation function\n",
        "            error=train_lbl[i]-logits # Error calculation\n",
        "            gradient=logits*(1-logits)\n",
        "            deltaW=alpha*gradient*error*train[i].reshape(train[i].shape[0],1)*logits\n",
        "            w=w+deltaW # Weight update\n",
        "            logits=np.round(logits)\n",
        "\n",
        "            if j>0:\n",
        "              image=np.reshape(train[i][1:],(28,28))\n",
        "              imageRotated=skimage.transform.rotate(image,j*10)\n",
        "              imageRotated=imageRotated.reshape(28*28)\n",
        "              imageRotated=np.transpose(np.concatenate((imageRotated,np.ones([1])),axis=0))\n",
        "              trainRotated[j*train.shape[0]+i]=imageRotated;\n",
        "              s=np.einsum('i,ij->j',trainRotated[j*train.shape[0]+i],w)\n",
        "              logits=(1/(1+np.exp(-0.0001*s))) # Activation function\n",
        "              error=train_lbl[i]-logits # Error calculation\n",
        "              gradient=logits*(1-logits)\n",
        "              deltaW=alpha*gradient*error*logits*trainRotated[i].reshape(trainRotated[i].shape[0],1)\n",
        "              w=w+deltaW # Weight update\n",
        "              trainRotated_lbl[j*train.shape[0]+i]=train_lbl[i]\n",
        "              logits=np.round(logits)\n",
        "              count+=count\n",
        "\n",
        "        loss+=abs(error)\n",
        "\n",
        "    # Training set accuracy\n",
        "    s=np.einsum('ij,jk->ik',trainRotated,w)\n",
        "    logits=(1/(1+np.exp(-0.0001*s))) # Activation function\n",
        "    logits=np.round(logits)\n",
        "    print('Epoch: {:}, error: {:0.2f} accuracy: {:0.2f}'.format(epoch,loss[0],acc(logits,trainRotated_lbl)))"
      ],
      "execution_count": 138,
      "outputs": [
        {
          "output_type": "stream",
          "text": [
            "\n",
            "Training:\n",
            "\n",
            "Epoch: 0, error: 0.01 accuracy: 81.38\n",
            "Epoch: 1, error: 0.00 accuracy: 83.51\n"
          ],
          "name": "stdout"
        },
        {
          "output_type": "stream",
          "text": [
            "/usr/local/lib/python3.6/dist-packages/ipykernel_launcher.py:14: RuntimeWarning: overflow encountered in exp\n",
            "  \n",
            "/usr/local/lib/python3.6/dist-packages/ipykernel_launcher.py:28: RuntimeWarning: overflow encountered in exp\n",
            "/usr/local/lib/python3.6/dist-packages/ipykernel_launcher.py:41: RuntimeWarning: overflow encountered in exp\n"
          ],
          "name": "stderr"
        },
        {
          "output_type": "stream",
          "text": [
            "Epoch: 2, error: 0.00 accuracy: 84.22\n",
            "Epoch: 3, error: 0.00 accuracy: 84.47\n",
            "Epoch: 4, error: 0.00 accuracy: 84.81\n",
            "Epoch: 5, error: 0.00 accuracy: 84.99\n",
            "Epoch: 6, error: 0.00 accuracy: 84.90\n",
            "Epoch: 7, error: 0.00 accuracy: 84.91\n",
            "Epoch: 8, error: 0.00 accuracy: 84.81\n",
            "Epoch: 9, error: 0.00 accuracy: 84.88\n"
          ],
          "name": "stdout"
        }
      ]
    },
    {
      "cell_type": "code",
      "metadata": {
        "id": "ptyzB4eWj4Ei",
        "colab_type": "code",
        "outputId": "cfc745cf-e830-4de7-b027-2844aa0bf05e",
        "colab": {
          "base_uri": "https://localhost:8080/",
          "height": 945
        }
      },
      "source": [
        "angles2=np.empty(10)\n",
        "accuracies2=np.empty(10)\n",
        "testRotated=np.empty(test.shape)\n",
        "for j in range(10):\n",
        "    for i in range(len(test)):\n",
        "        image=np.reshape(test[i][1:],(28,28))\n",
        "        imageRotated=skimage.transform.rotate(image,j*10)\n",
        "        imageRotated=imageRotated.reshape(28*28)\n",
        "        imageRotated=np.transpose(np.concatenate((imageRotated,np.ones([1])),axis=0))\n",
        "        testRotated[i]=imageRotated;\n",
        "\n",
        "    # Test set accuracy\n",
        "    print('\\nTest: rotation {:f}\\n'.format(j*10))\n",
        "    angles2[j]=j*10\n",
        "    logits=np.einsum('ij,jk->ik',testRotated,w)\n",
        "    logits=np.round(logits)  \n",
        "    print('Test accuracy: {:0.2f}'.format(acc(logits,test_lbl)))\n",
        "    accuracies2[j]=acc(logits,test_lbl)\n",
        "    \n",
        "plt.plot(angles2,accuracies2, angles,accuracies)\n",
        "plt.gca().legend(('Training with rotations','Training without rotations'))\n",
        "plt.show()"
      ],
      "execution_count": 139,
      "outputs": [
        {
          "output_type": "stream",
          "text": [
            "\n",
            "Test: rotation 0.000000\n",
            "\n",
            "Test accuracy: 0.00\n",
            "\n",
            "Test: rotation 10.000000\n",
            "\n",
            "Test accuracy: 0.00\n",
            "\n",
            "Test: rotation 20.000000\n",
            "\n",
            "Test accuracy: 0.00\n",
            "\n",
            "Test: rotation 30.000000\n",
            "\n",
            "Test accuracy: 0.00\n",
            "\n",
            "Test: rotation 40.000000\n",
            "\n",
            "Test accuracy: 0.00\n",
            "\n",
            "Test: rotation 50.000000\n",
            "\n",
            "Test accuracy: 0.00\n",
            "\n",
            "Test: rotation 60.000000\n",
            "\n",
            "Test accuracy: 0.00\n",
            "\n",
            "Test: rotation 70.000000\n",
            "\n",
            "Test accuracy: 0.00\n",
            "\n",
            "Test: rotation 80.000000\n",
            "\n",
            "Test accuracy: 0.00\n",
            "\n",
            "Test: rotation 90.000000\n",
            "\n",
            "Test accuracy: 0.00\n"
          ],
          "name": "stdout"
        },
        {
          "output_type": "display_data",
          "data": {
            "image/png": "[encoded data removed]",
            "text/plain": [
              "<Figure size 432x288 with 1 Axes>"
            ]
          },
          "metadata": {
            "tags": []
          }
        }
      ]
    },
    {
      "cell_type": "code",
      "metadata": {
        "id": "qsie1SiRl0u1",
        "colab_type": "code",
        "colab": {}
      },
      "source": [
        ""
      ],
      "execution_count": 0,
      "outputs": []
    }
  ]
}